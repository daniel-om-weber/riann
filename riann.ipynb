{
 "cells": [
  {
   "cell_type": "code",
   "execution_count": 1,
   "metadata": {},
   "outputs": [],
   "source": [
    "# default_exp riann"
   ]
  },
  {
   "cell_type": "markdown",
   "metadata": {},
   "source": [
    "# riann\n",
    "\n",
    "> API details."
   ]
  },
  {
   "cell_type": "code",
   "execution_count": 1,
   "metadata": {},
   "outputs": [],
   "source": [
    "#hide\n",
    "from nbdev.showdoc import *"
   ]
  },
  {
   "cell_type": "code",
   "execution_count": 2,
   "metadata": {},
   "outputs": [],
   "source": [
    "#export \n",
    "import onnxruntime as rt\n",
    "import numpy as np\n",
    "import pkg_resources"
   ]
  },
  {
   "cell_type": "code",
   "execution_count": 3,
   "metadata": {},
   "outputs": [],
   "source": [
    "#export\n",
    "class RIANN:\n",
    "    \"\"\"\n",
    "    Real-time progress plots for Jupyter notebooks.\n",
    "    Parameters\n",
    "    ----------\n",
    "    onnx_path : str, optional, default: ``None``\n",
    "        Path to the RIANN onnx file. Defaults to the file provided with the package.\n",
    "    \"\"\"\n",
    "\n",
    "    def __init__(self, onnx_path=None):\n",
    "        if onnx_path is None:\n",
    "            try:\n",
    "                onnx_path = pkg_resources.resource_string(__name__, \"riann.onnx\")\n",
    "            except: #pkg_resources fails if the code is executed in the jupyter-notebook\n",
    "                onnx_path = 'riann/riann.onnx'\n",
    "        \n",
    "        self.session = rt.InferenceSession(onnx_path)\n",
    "        self.h0 = np.zeros((2,1,1,200),dtype=np.float32)\n",
    "        \n",
    "    def predict(self,acc,gyr,fs):\n",
    "        \"\"\"\n",
    "        Update plot with external x-values.\n",
    "        Parameters\n",
    "        ----------\n",
    "        acc: numpy-array [sequence_length x 3]\n",
    "            Acceleration data of the IMU. The axis order is x,y,z.\n",
    "        gyr: numpy-array [sequence_length x 3]\n",
    "            Gyroscope data of the IMU. The axis order is x,y,z.\n",
    "        fs: float\n",
    "            Samplingrate of the provided IMU data\n",
    "            \n",
    "        Returns\n",
    "        -------\n",
    "        attitude unit-quaternions [sequence_length x 4]\n",
    "        \"\"\"\n",
    "        #prepare minibatch for runtime execution\n",
    "        np_inp = np.concatenate([acc,gyr,np.tile(1/fs,(acc.shape[0],1))],axis=-1).astype(np.float32)[None,...]\n",
    "        \n",
    "        return self.session.run([], {'input': np_inp ,'h0':self.h0})[0][0]"
   ]
  },
  {
   "cell_type": "code",
   "execution_count": 4,
   "metadata": {},
   "outputs": [],
   "source": [
    "sequence_length=100\n",
    "acc = np.ones((sequence_length,3))\n",
    "gyr = np.ones_like(acc)\n",
    "fs = 200"
   ]
  },
  {
   "cell_type": "code",
   "execution_count": 5,
   "metadata": {},
   "outputs": [
    {
     "data": {
      "text/plain": [
       "(100, 4)"
      ]
     },
     "execution_count": 5,
     "metadata": {},
     "output_type": "execute_result"
    }
   ],
   "source": [
    "riann = RIANN()\n",
    "riann.predict(acc,gyr,fs).shape"
   ]
  },
  {
   "cell_type": "code",
   "execution_count": 7,
   "metadata": {},
   "outputs": [
    {
     "name": "stdout",
     "output_type": "stream",
     "text": [
      "Converted index.ipynb.\n",
      "Converted riann.ipynb.\n"
     ]
    }
   ],
   "source": [
    "#hide\n",
    "from nbdev.export import *\n",
    "notebook2script()"
   ]
  },
  {
   "cell_type": "code",
   "execution_count": null,
   "metadata": {},
   "outputs": [],
   "source": []
  }
 ],
 "metadata": {
  "kernelspec": {
   "display_name": "Python 3",
   "language": "python",
   "name": "python3"
  },
  "language_info": {
   "codemirror_mode": {
    "name": "ipython",
    "version": 3
   },
   "file_extension": ".py",
   "mimetype": "text/x-python",
   "name": "python",
   "nbconvert_exporter": "python",
   "pygments_lexer": "ipython3",
   "version": "3.7.10"
  }
 },
 "nbformat": 4,
 "nbformat_minor": 4
}
