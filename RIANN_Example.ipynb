{
 "cells": [
  {
   "cell_type": "markdown",
   "id": "043d6acf-562a-48ca-b2a3-92384aed0779",
   "metadata": {},
   "source": [
    "# Application Example of RIANN on the BROAD Dataset"
   ]
  },
  {
   "cell_type": "code",
   "execution_count": 1,
   "id": "6048c24e-cfa5-426c-9437-448beda26b0e",
   "metadata": {},
   "outputs": [],
   "source": [
    "import matplotlib.pyplot as plt\n",
    "import numpy as np\n",
    "%matplotlib inline"
   ]
  },
  {
   "cell_type": "markdown",
   "id": "ddf1c61e-ff54-4327-8ed3-d619f3f89787",
   "metadata": {},
   "source": [
    "Download the data of the BROAD dataset (https://doi.org/10.3390/data6070072). The notebook assumes, that the `data_hdf5` Folder is inside of the working directory."
   ]
  },
  {
   "cell_type": "code",
   "execution_count": 2,
   "id": "a7bb4991-5985-477d-9a9c-1ad519a568e5",
   "metadata": {},
   "outputs": [],
   "source": [
    "#!wget https://depositonce.tu-berlin.de/bitstream/11303/13238/2/broad.zip\n",
    "#!unzip broad.zip"
   ]
  },
  {
   "cell_type": "markdown",
   "id": "2c8cc49c-db3f-4e18-984f-464565fa363f",
   "metadata": {},
   "source": [
    "Load the reference orientation, accelerometer, gyroscope and sampling-rate values of a measurement."
   ]
  },
  {
   "cell_type": "code",
   "execution_count": 3,
   "id": "58336b4f-1502-48d6-b197-0bd430206726",
   "metadata": {},
   "outputs": [],
   "source": [
    "#!pip install h5py\n",
    "import h5py\n",
    "with h5py.File('data_hdf5/01_undisturbed_slow_rotation_A.hdf5','r') as f:\n",
    "    acc = f['imu_acc'][:]\n",
    "    gyr = f['imu_gyr'][:]\n",
    "    ref_quat = f['opt_quat'][:]\n",
    "    fs = f.attrs['sampling_rate']"
   ]
  },
  {
   "cell_type": "markdown",
   "id": "f20f7fc7-5c50-4493-80c9-7709d8114c8f",
   "metadata": {},
   "source": [
    "Use RIANN to estimate the attitude of the IMU"
   ]
  },
  {
   "cell_type": "code",
   "execution_count": 4,
   "id": "7fd4c458-3a95-480e-a5c9-86f18c2a9312",
   "metadata": {},
   "outputs": [
    {
     "data": {
      "text/plain": [
       "(56940, 4)"
      ]
     },
     "execution_count": 4,
     "metadata": {},
     "output_type": "execute_result"
    }
   ],
   "source": [
    "from riann.riann import RIANN\n",
    "riann = RIANN()\n",
    "est_quat = riann.predict(acc,gyr,fs)\n",
    "est_quat.shape"
   ]
  },
  {
   "cell_type": "markdown",
   "id": "2f746b77-7a69-492e-bc91-64c4f17b572c",
   "metadata": {},
   "source": [
    "Define the attitude error metric for the final evaluation"
   ]
  },
  {
   "cell_type": "code",
   "execution_count": 5,
   "id": "0e8ca139-34d3-4f7a-a66d-e663e9e2c275",
   "metadata": {
    "tags": []
   },
   "outputs": [],
   "source": [
    "def relativeQuat(q1, q2):\n",
    "    \"\"\"quat1*inv(quat2)\"\"\"\n",
    "\n",
    "    o1 =  q1[..., 0] * q2[..., 0] + q1[..., 1] * q2[..., 1] + q1[..., 2] * q2[..., 2] + q1[..., 3] * q2[..., 3]\n",
    "    o2 = -q1[..., 0] * q2[..., 1] + q1[..., 1] * q2[..., 0] - q1[..., 2] * q2[..., 3] + q1[..., 3] * q2[..., 2]\n",
    "    o3 = -q1[..., 0] * q2[..., 2] + q1[..., 1] * q2[..., 3] + q1[..., 2] * q2[..., 0] - q1[..., 3] * q2[..., 1]\n",
    "    o4 = -q1[..., 0] * q2[..., 3] - q1[..., 1] * q2[..., 2] + q1[..., 2] * q2[..., 1] + q1[..., 3] * q2[..., 0]\n",
    "\n",
    "    return np.stack([o1,o2,o3,o4],axis=-1)\n",
    "\n",
    "def safe_acos_double(t,eps = 1e-16):\n",
    "    '''numericaly stable variant of arcuscosine, uses 64bit floats for internal computation for increased accuracy'''\n",
    "    return np.float32(np.arccos(np.clip(np.float64(t),-1.0 + eps, 1.0 - eps)))\n",
    "\n",
    "def attitudeAngleDeg(q1,q2):\n",
    "    '''the attitude error between to quaternions in degree'''\n",
    "    q = relativeQuat(q1,q2)\n",
    "    \n",
    "    return 2*safe_acos_double(np.sqrt(q[..., 3]**2 + q[..., 0]**2))/np.pi*180"
   ]
  },
  {
   "cell_type": "markdown",
   "id": "336145e6-6f82-42b2-ba6f-c4e97e129ac9",
   "metadata": {},
   "source": [
    "Plot the attitude error of every time step"
   ]
  },
  {
   "cell_type": "code",
   "execution_count": 6,
   "id": "fab5e488-a086-4271-aa8c-0e0f80084ace",
   "metadata": {},
   "outputs": [
    {
     "data": {
      "text/plain": [
       "Text(0, 0.5, 'attitude error [°]')"
      ]
     },
     "execution_count": 6,
     "metadata": {},
     "output_type": "execute_result"
    },
    {
     "data": {
      "image/png": "[encoded data removed]",
      "text/plain": [
       "<Figure size 432x288 with 1 Axes>"
      ]
     },
     "metadata": {
      "needs_background": "light"
     },
     "output_type": "display_data"
    }
   ],
   "source": [
    "plt.figure()\n",
    "x = np.linspace(0,ref_quat.shape[0]/fs,ref_quat.shape[0])\n",
    "plt.plot(x,attitudeAngleDeg(est_quat,ref_quat))\n",
    "plt.xlabel('time [s]')\n",
    "plt.ylabel('attitude error [°]')"
   ]
  },
  {
   "cell_type": "code",
   "execution_count": null,
   "id": "6134fbdf-aad8-46a0-92f8-ce2a76fcf264",
   "metadata": {},
   "outputs": [],
   "source": []
  }
 ],
 "metadata": {
  "kernelspec": {
   "display_name": "Python 3",
   "language": "python",
   "name": "python3"
  },
  "language_info": {
   "codemirror_mode": {
    "name": "ipython",
    "version": 3
   },
   "file_extension": ".py",
   "mimetype": "text/x-python",
   "name": "python",
   "nbconvert_exporter": "python",
   "pygments_lexer": "ipython3",
   "version": "3.9.5"
  }
 },
 "nbformat": 4,
 "nbformat_minor": 5
}
